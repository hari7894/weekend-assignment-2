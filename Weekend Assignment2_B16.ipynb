{
 "cells": [
  {
   "cell_type": "code",
   "execution_count": 1,
   "metadata": {},
   "outputs": [],
   "source": [
    "# T shirt"
   ]
  },
  {
   "cell_type": "code",
   "execution_count": 4,
   "metadata": {},
   "outputs": [],
   "source": [
    "def make_shirt(size,text):\n",
    "    \"\"\"display the size and text that should be printed\"\"\"\n",
    "    print(f\"Size of the t shirt is {size}\")\n",
    "    print(f\"\\n{text}\")"
   ]
  },
  {
   "cell_type": "code",
   "execution_count": 5,
   "metadata": {},
   "outputs": [
    {
     "name": "stdout",
     "output_type": "stream",
     "text": [
      "Size of the t shirt is 38 cm\n",
      "\n",
      "Being Human\n"
     ]
    }
   ],
   "source": [
    "make_shirt('38 cm','Being Human')"
   ]
  },
  {
   "cell_type": "code",
   "execution_count": 6,
   "metadata": {},
   "outputs": [
    {
     "name": "stdout",
     "output_type": "stream",
     "text": [
      "Size of the t shirt is 38cm\n",
      "\n",
      "Being Human\n"
     ]
    }
   ],
   "source": [
    "make_shirt(size='38cm',text='Being Human')"
   ]
  },
  {
   "cell_type": "code",
   "execution_count": 7,
   "metadata": {},
   "outputs": [],
   "source": [
    "#large shirts"
   ]
  },
  {
   "cell_type": "code",
   "execution_count": 14,
   "metadata": {},
   "outputs": [],
   "source": [
    "def make_shirt(size,text='i love python'):\n",
    "    \"\"\"display the size and text that should be printed\"\"\"\n",
    "    if size=='large':\n",
    "        print(f\"Size of the shirt is {size}\")\n",
    "        print(f\"\\n{text}\")\n",
    "    elif size=='medium':\n",
    "        print(f\"Size of the shirt is {size}\")\n",
    "        print(f\"\\n{text}\")\n",
    "    else :\n",
    "        print(f\"size of the shirt is {size}\")\n",
    "        print(\"\\nThis is good\")"
   ]
  },
  {
   "cell_type": "code",
   "execution_count": 11,
   "metadata": {},
   "outputs": [
    {
     "name": "stdout",
     "output_type": "stream",
     "text": [
      "Size of the shirt is large\n",
      "\n",
      "i love python\n"
     ]
    }
   ],
   "source": [
    "make_shirt('large')"
   ]
  },
  {
   "cell_type": "code",
   "execution_count": 12,
   "metadata": {},
   "outputs": [
    {
     "name": "stdout",
     "output_type": "stream",
     "text": [
      "Size of the shirt is medium\n",
      "\n",
      "i love python\n"
     ]
    }
   ],
   "source": [
    "make_shirt('medium')"
   ]
  },
  {
   "cell_type": "code",
   "execution_count": 15,
   "metadata": {},
   "outputs": [
    {
     "name": "stdout",
     "output_type": "stream",
     "text": [
      "size of the shirt is small\n",
      "\n",
      "This is good\n"
     ]
    }
   ],
   "source": [
    "make_shirt('small')"
   ]
  },
  {
   "cell_type": "code",
   "execution_count": 17,
   "metadata": {},
   "outputs": [],
   "source": [
    "#Large shirts Using positional and key word arguments"
   ]
  },
  {
   "cell_type": "code",
   "execution_count": 23,
   "metadata": {},
   "outputs": [],
   "source": [
    "def make_shirts(size='large',text='i love python'):\n",
    "    \"\"\"display the size and text that should be printed\"\"\"\n",
    "    print(f\"Shirt size is {size}\")\n",
    "    print(f\"{text}\\n\")"
   ]
  },
  {
   "cell_type": "code",
   "execution_count": 24,
   "metadata": {},
   "outputs": [
    {
     "name": "stdout",
     "output_type": "stream",
     "text": [
      "Shirt size is large\n",
      "i love python\n",
      "\n",
      "Shirt size is medium\n",
      "i love python\n",
      "\n",
      "Shirt size is small\n",
      "I love my self\n",
      "\n"
     ]
    }
   ],
   "source": [
    "make_shirts()\n",
    "make_shirts('medium')\n",
    "make_shirts('small','I love my self')"
   ]
  },
  {
   "cell_type": "code",
   "execution_count": 25,
   "metadata": {},
   "outputs": [],
   "source": [
    "#cities using positional and key word arguments"
   ]
  },
  {
   "cell_type": "code",
   "execution_count": 26,
   "metadata": {},
   "outputs": [],
   "source": [
    "def describe_cities(city='andhra',country='india'):\n",
    "    print(f\"{city.title()} is in {country.title()}\")"
   ]
  },
  {
   "cell_type": "code",
   "execution_count": 27,
   "metadata": {},
   "outputs": [
    {
     "name": "stdout",
     "output_type": "stream",
     "text": [
      "Andhra is in India\n",
      "Tirupati is in India\n",
      "Sydney is in Australia\n"
     ]
    }
   ],
   "source": [
    "describe_cities()\n",
    "describe_cities('tirupati')\n",
    "describe_cities('sydney','australia')"
   ]
  },
  {
   "cell_type": "code",
   "execution_count": null,
   "metadata": {},
   "outputs": [],
   "source": []
  }
 ],
 "metadata": {
  "kernelspec": {
   "display_name": "Python 3",
   "language": "python",
   "name": "python3"
  },
  "language_info": {
   "codemirror_mode": {
    "name": "ipython",
    "version": 3
   },
   "file_extension": ".py",
   "mimetype": "text/x-python",
   "name": "python",
   "nbconvert_exporter": "python",
   "pygments_lexer": "ipython3",
   "version": "3.7.6"
  }
 },
 "nbformat": 4,
 "nbformat_minor": 4
}
